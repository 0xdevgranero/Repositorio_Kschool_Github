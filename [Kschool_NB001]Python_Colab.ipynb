{
  "cells": [
    {
      "cell_type": "markdown",
      "metadata": {
        "id": "view-in-github",
        "colab_type": "text"
      },
      "source": [
        "<a href=\"https://colab.research.google.com/github/0xdevgranero/Repositorio_Kschool_Github/blob/main/%5BKschool_NB001%5DPython_Colab.ipynb\" target=\"_parent\"><img src=\"https://colab.research.google.com/assets/colab-badge.svg\" alt=\"Open In Colab\"/></a>"
      ]
    },
    {
      "cell_type": "markdown",
      "metadata": {
        "id": "nBpHNI3wthDr"
      },
      "source": [
        "<center><h1 style=\"text-align: center;\"><u>Python Colab</u></h1>\n",
        "<p style=\"text-align:center;font-family:Verdana;\">\n",
        "    <h2>Objetivos:</h2>\n",
        "    <font color=\"#004D7F\" size=3 style=\"font-family:Verdana;\">- Formar al alumno para poder interconectar el ipynb de Colab con Google Drive.<br>- Mostrar las características más usadas y conocidas para poder formatear adecuadamente el notebook a través de Markdown.\n",
        "</p>\n",
        "\n",
        "<br>\n",
        "<h3>Notebook 1</h3>\n",
        "<br>\n",
        "<img style=\"text-align: center;width: 800px\" src=\"https://raw.githubusercontent.com/0xdevgranero/kschool/main/imgs/challenge.jpeg\" alt=\"logo\"></center>\n",
        "<br>\n",
        "\n",
        "---\n",
        "---\n",
        "---"
      ]
    },
    {
      "cell_type": "code",
      "execution_count": null,
      "metadata": {
        "colab": {
          "base_uri": "https://localhost:8080/"
        },
        "id": "iHcJgUvGSDJG",
        "outputId": "c4534730-476f-4962-9871-bdb1fcd464a0"
      },
      "outputs": [
        {
          "output_type": "stream",
          "name": "stdout",
          "text": [
            "Encontrada GPU: /device:GPU:0\n"
          ]
        }
      ],
      "source": [
        "#@title Esto es un formulario\n",
        "import tensorflow as tf\n",
        "device_name = tf.test.gpu_device_name()\n",
        "if device_name != '/device:GPU:0':\n",
        "  raise SystemError('GPU no encontrada')\n",
        "print('Encontrada GPU: {}'.format(device_name))"
      ]
    },
    {
      "cell_type": "code",
      "execution_count": null,
      "metadata": {
        "colab": {
          "base_uri": "https://localhost:8080/"
        },
        "id": "yQcFKCvPz6it",
        "outputId": "3a9a9428-989f-4447-8cc0-5d9d5538d034"
      },
      "outputs": [
        {
          "output_type": "stream",
          "name": "stdout",
          "text": [
            "Python 3.10.12\n"
          ]
        },
        {
          "output_type": "execute_result",
          "data": {
            "text/plain": [
              "sys.version_info(major=3, minor=10, micro=12, releaselevel='final', serial=0)"
            ]
          },
          "metadata": {},
          "execution_count": 5
        }
      ],
      "source": [
        "!python --version\n",
        "\n",
        "import sys\n",
        "(sys.version_info)"
      ]
    },
    {
      "cell_type": "markdown",
      "metadata": {
        "id": "Dr4-z8Z-xv4s"
      },
      "source": [
        "---\n",
        "<a id=\"bloque1\"></a>\n",
        "<font color=\"#004D7F\" size=6 style=\"font-family:Verdana;\">Integración con Google Drive</font>"
      ]
    },
    {
      "cell_type": "markdown",
      "metadata": {
        "id": "KeiV8dVPxv4t"
      },
      "source": [
        "<font color=\"#004D7F\" size=3 style=\"font-family:Verdana;\">En `Colab` para leer archivos de tu cuenta de google drive debes seguir los siguientes pasos:\n",
        "* [1] Debes de montar la carpeta que quieres leer como unidad\n",
        "* [2] Necesitas importar la biblioteca drive en el notebook\n",
        "* [3] Especificar la ruta de tu archivo."
      ]
    },
    {
      "cell_type": "code",
      "execution_count": null,
      "metadata": {
        "id": "uWyQfNNYxv4t"
      },
      "outputs": [],
      "source": [
        "# Vamos a importamos la biblioteca drive para montar la unidad\n",
        "from google.colab import drive"
      ]
    },
    {
      "cell_type": "code",
      "execution_count": null,
      "metadata": {
        "id": "s6HAsRtrxv4u"
      },
      "outputs": [],
      "source": [
        "# Montamos la carpeta o directorio al que queremos acceder\n",
        "drive.mount('/content/drive')"
      ]
    },
    {
      "cell_type": "markdown",
      "metadata": {
        "id": "vwUgRyAlxv4u"
      },
      "source": [
        "<font color=\"#004D7F\" size=3 style=\"font-family:Verdana;\">Esta acción solicitará confirmar la cuenta a la que quieres acceder, tras esto, nos solicitará aceptar el acuerdo de confiabilidad, donde básicamente se te informan todas las operaciones que se podrán realizar con esta confirmación.\n",
        "\n",
        "<font color=\"#004D7F\" size=3 style=\"font-family:Verdana;\">Después de conceder los permisos, te aparecerá el siguiente mensaje que nos confirmará que hemos conectado el notebook con nuestro directorio de Google Drive:\n",
        "\n",
        "> `Mounted at /content/drive`"
      ]
    },
    {
      "cell_type": "markdown",
      "metadata": {
        "id": "4Y-dCWTuxv4u"
      },
      "source": [
        "<font color=\"#004D7F\" size=3 style=\"font-family:Verdana;\">Para buscar la ubicación exacta de tu archivo, la forma más fácil de encontrar la ruta es navegando por el árbol de directorios de Drive.\n",
        "\n",
        "<font color=\"#004D7F\" size=3 style=\"font-family:Verdana;\">Así accedemos a través del menú de la barra lateral izquierda.\n",
        "Los archivos de tu Drive se encuentran en la ruta <b>content -> drive -> MyDrive ...</b> o similar.\n",
        "\n",
        "<font color=\"#004D7F\" size=3 style=\"font-family:Verdana;\">Una vez localizado tu archivo, puedes desplegar el menú emergente y simplemente deberás copiar la ruta de acceso.\n",
        "<br>\n",
        "¡¡Ya puedes asignar esta ruta a una variable para leer el archivo.!!\n",
        "\n",
        "<font color=\"#004D7F\" size=3 style=\"font-family:Verdana;\">Aquí vemos un ejemplo de como leer un archivo txt almacenado en mi drive de google."
      ]
    },
    {
      "cell_type": "code",
      "execution_count": null,
      "metadata": {
        "colab": {
          "base_uri": "https://localhost:8080/"
        },
        "id": "Bk-y0xQvxv4v",
        "outputId": "a720805f-aa3b-4324-acdb-3a9d821799be"
      },
      "outputs": [
        {
          "name": "stdout",
          "output_type": "stream",
          "text": [
            "Esto es una prueba\n",
            "\n",
            "para leer un archivo txt\n",
            "\n",
            "Kschool Rock&Roll!\n"
          ]
        }
      ],
      "source": [
        "# Vamos a leer un archivo txt almacenado como ejemplo en nuestro drive de google.\n",
        "# Para ello vamos a disponibilizar en la ruta /Master_Kschool/ de nuestro Google Drive el archivo archivo.txt con el siguiente texto \"Kschool Rock&Roll!\".\n",
        "\n",
        "# Usar el fichero.\n",
        "path = '/content/drive/MyDrive/Master_Kschool/Clase_1/archivo.txt'\n",
        "\n",
        "with open(path) as fichero: # Se cerrará automáticamente al salir del bloque with\n",
        "  for linea in fichero:\n",
        "    print(linea)"
      ]
    },
    {
      "cell_type": "markdown",
      "metadata": {
        "id": "I20PKe0hxv4v"
      },
      "source": [
        "> Dicho ejemplo es simplemente para que veais como se hace. No es necesario que lo ejecutéis."
      ]
    },
    {
      "cell_type": "markdown",
      "metadata": {
        "id": "2sX1-BqYxv4v"
      },
      "source": [
        "### Leer archivos alojados en tu disco\n",
        "<font color=\"#004D7F\" size=3 style=\"font-family:Verdana;\">Para acceder a archivos de tu disco local puedes obtener la ruta en el mismo menú lateral en el icono de cargar archivos (flecha que apunta hacia arriba) de la barra superior del mismo menú; copiar la ruta y seguir las mismas instrucciones."
      ]
    },
    {
      "cell_type": "markdown",
      "metadata": {
        "id": "oS7rf2Mexv4v"
      },
      "source": [
        "---\n",
        "<a id=\"bloque2\"></a>\n",
        "<font color=\"#004D7F\" size=6 style=\"font-family:Verdana;\">Markdown</font>"
      ]
    },
    {
      "cell_type": "markdown",
      "metadata": {
        "id": "9YZrXO-_xv4w"
      },
      "source": [
        "<font color=\"#004D7F\" size=3 style=\"font-family:Verdana;\">`Markdown` es un lenguaje de marcado ligero creado por **John Gruber en 2004**, diseñado para ser fácil de leer y escribir.\n",
        "\n",
        "<font color=\"#004D7F\" size=3 style=\"font-family:Verdana;\">Su principal objetivo es permitir que las personas escriban texto en un formato sencillo y legible, que luego se puede convertir a HTML u otros formatos de salida. Markdown es ampliamente utilizado para documentación de contenido programático, el formato de mensajes en foros y chats en línea, la escritura de blogs y más.\n",
        "\n",
        "<font color=\"#004D7F\" size=3 style=\"font-family:Verdana;\">La sintaxis de Markdown es simple y utiliza caracteres de puntuación y símbolos comunes para indicar la estructura y el formato del texto.\n",
        "\n",
        "<font color=\"#004D7F\" size=3 style=\"font-family:Verdana;\">Por ejemplo, se pueden crear encabezados usando símbolos #, texto en negrita rodeándolo con **, y enlaces utilizando corchetes [] y paréntesis (), todo esto lo veremos a continuación."
      ]
    },
    {
      "cell_type": "markdown",
      "metadata": {
        "id": "xhfS5AQuxv4w"
      },
      "source": [
        "## Encabezados\n",
        "---"
      ]
    },
    {
      "cell_type": "markdown",
      "metadata": {
        "id": "n3ygjXQGxv4w"
      },
      "source": [
        "# Encabezado 1\n",
        "## Encabezado 2\n",
        "### Encabezado 3\n",
        "#### Encabezado 4\n",
        "##### Encabezado 5\n",
        "###### Encabezado 6"
      ]
    },
    {
      "cell_type": "markdown",
      "metadata": {
        "id": "BHogg3ihxv4w"
      },
      "source": [
        "## Formato de texto\n",
        "---"
      ]
    },
    {
      "cell_type": "markdown",
      "metadata": {
        "id": "_ibmjMmgxv4w"
      },
      "source": [
        "**Texto en negrita**\n",
        "\n",
        "*Texto en cursiva*\n",
        "\n",
        "~~Texto tachado~~, pero este no está tachado"
      ]
    },
    {
      "cell_type": "markdown",
      "metadata": {
        "id": "kWjwuX1-xv4w"
      },
      "source": [
        "## Enlaces\n",
        "---"
      ]
    },
    {
      "cell_type": "markdown",
      "metadata": {
        "id": "HDigj29uxv4w"
      },
      "source": [
        "[Texto del enlace](https://www.example.com)\n",
        "\n",
        "[Ancla a parte del código (título Markdown)](#bloque2)"
      ]
    },
    {
      "cell_type": "markdown",
      "metadata": {
        "id": "8H-H3GKfxv4w"
      },
      "source": [
        "## Imágenes\n",
        "---"
      ]
    },
    {
      "cell_type": "markdown",
      "metadata": {
        "id": "z_35CegGthDv"
      },
      "source": [
        "<font color=\"#004D7F\" size=3 style=\"font-family:Verdana;\">Lectura desde un archivo de texto en internet:<br>\n",
        "<font color=\"#004D7F\" size=3 style=\"font-family:Verdana;\">Opción 1"
      ]
    },
    {
      "cell_type": "markdown",
      "metadata": {
        "id": "niOwuppRxv4w"
      },
      "source": [
        "![Imagen de Kschool](https://nachocarnes.es/wp-content/uploads/2018/04/ejWGXui6_400x400.png)"
      ]
    },
    {
      "cell_type": "markdown",
      "metadata": {
        "id": "4fOpxK_QthDv"
      },
      "source": [
        "<font color=\"#004D7F\" size=3 style=\"font-family:Verdana;\">Opción 2"
      ]
    },
    {
      "cell_type": "markdown",
      "metadata": {
        "id": "1P_-8HQgxv4w"
      },
      "source": [
        "<img src=\"https://nachocarnes.es/wp-content/uploads/2018/04/ejWGXui6_400x400.png\" alt=\"Drawing\" style=\"align=left\"/>"
      ]
    },
    {
      "cell_type": "markdown",
      "metadata": {
        "id": "P8CD-NRsxv4w"
      },
      "source": [
        "<font color=\"#004D7F\" size=3 style=\"font-family:Verdana;\">El atributo `<img> align` se utiliza para establecer la alineación de una imagen.\n",
        "\n",
        "<font color=\"#004D7F\" size=3 style=\"font-family:Verdana;\">Es un elemento en línea. Sirve para especificar la alineación de la imagen según los elementos circundantes.\n",
        "Posible opciones --> align=`left|right|middle|top|bottom`"
      ]
    },
    {
      "cell_type": "markdown",
      "metadata": {
        "id": "YOH_0zP9FcFi"
      },
      "source": [
        "### Carga de Imagen desde Github\n"
      ]
    },
    {
      "cell_type": "markdown",
      "metadata": {
        "id": "MN-WlAZGE8HX"
      },
      "source": [
        "![Imagen de Github](https://github.com/emunozlorenzo/DataCopCrimePrediction/blob/master/img/dataCopBlue.JPG?raw=true)"
      ]
    },
    {
      "cell_type": "markdown",
      "metadata": {
        "id": "LJszTWIJIOsb"
      },
      "source": [
        "<font color=\"#004D7F\" size=2 style=\"font-family:Verdana;\">Cargar repositorios de Github"
      ]
    },
    {
      "cell_type": "code",
      "execution_count": null,
      "metadata": {
        "id": "UJYeQ9jUIOKf",
        "outputId": "9b554752-c846-45e6-98e6-27fecb95f113"
      },
      "outputs": [
        {
          "name": "stdout",
          "output_type": "stream",
          "text": [
            "Cloning into 'DataCopCrimePrediction'...\n",
            "remote: Enumerating objects: 367, done.\u001b[K\n",
            "remote: Counting objects: 100% (96/96), done.\u001b[K\n",
            "remote: Compressing objects: 100% (66/66), done.\u001b[K\n",
            "remote: Total 367 (delta 55), reused 58 (delta 30), pack-reused 271\u001b[K\n",
            "Receiving objects: 100% (367/367), 14.71 MiB | 21.93 MiB/s, done.\n",
            "Resolving deltas: 100% (188/188), done.\n"
          ]
        }
      ],
      "source": [
        "!git clone https://github.com/emunozlorenzo/DataCopCrimePrediction.git"
      ]
    },
    {
      "cell_type": "markdown",
      "metadata": {
        "id": "TqNHoTRhxv4w"
      },
      "source": [
        "## Listas\n",
        "---"
      ]
    },
    {
      "cell_type": "markdown",
      "metadata": {
        "id": "R_MfxbEXxv4w"
      },
      "source": [
        "Listas sin orden\n",
        "\n",
        "* Elemento 1\n",
        "- Elemento 2\n",
        "  - Subelemento 2.1\n",
        "  - Subelemento 2.2\n",
        "- Elemento 3\n"
      ]
    },
    {
      "cell_type": "markdown",
      "metadata": {
        "id": "r_XtNxSHxv4x"
      },
      "source": [
        "Listas ordenadas:\n",
        "\n",
        "1. Elemento 1\n",
        "2. Elemento 2\n",
        "3. Elemento 3"
      ]
    },
    {
      "cell_type": "markdown",
      "metadata": {
        "id": "jCPWCH2Bxv4x"
      },
      "source": [
        "## Citas\n",
        "---"
      ]
    },
    {
      "cell_type": "markdown",
      "metadata": {
        "id": "CfsYv-NTxv4x"
      },
      "source": [
        "> Esto es una cita."
      ]
    },
    {
      "cell_type": "markdown",
      "metadata": {
        "id": "kJ2GKtSKxv4x"
      },
      "source": [
        "## Código en línea y bloques de código\n",
        "---"
      ]
    },
    {
      "cell_type": "markdown",
      "metadata": {
        "id": "M063onqOxv4x"
      },
      "source": [
        "Código en línea:\n",
        "\n",
        "`código`\n",
        "\n",
        "Bloques de código:\n",
        "\n",
        "<pre>\n",
        "```\n",
        "def function():\n",
        "  pass\n",
        "  asdfsadf\n",
        "  sad\n",
        "  fsa\n",
        "  dfsadfsadfa\n",
        "\n",
        "asdfasfasdf\n",
        "```\n",
        "</pre>"
      ]
    },
    {
      "cell_type": "markdown",
      "metadata": {
        "id": "Af-uV90mxv4x"
      },
      "source": [
        "## Tablas\n",
        "---"
      ]
    },
    {
      "cell_type": "markdown",
      "metadata": {
        "id": "fPkkmlt3xv4x"
      },
      "source": [
        "| Encabezado 1 | Encabezado 2 | Encabezado 3 |\n",
        "|--------------|--------------|--------------|\n",
        "| Celda 1.1    | Celda 1.2    | Celda 1.3    |\n",
        "| Celda 2.1    | Celda 2.2    | Celda 2.3    |"
      ]
    },
    {
      "cell_type": "markdown",
      "metadata": {
        "id": "jZiDhtRqxv4x"
      },
      "source": [
        "## Lineas horizontales"
      ]
    },
    {
      "cell_type": "markdown",
      "metadata": {
        "id": "J-dg063Kxv4x"
      },
      "source": [
        "---"
      ]
    },
    {
      "cell_type": "markdown",
      "metadata": {
        "id": "4UAiCg07xv4x"
      },
      "source": [
        "## Tareas Checks\n",
        "---"
      ]
    },
    {
      "cell_type": "markdown",
      "metadata": {
        "id": "lVpiD9fYxv4x"
      },
      "source": [
        "- [  ] Tarea pendiente\n",
        "- [x] Tarea completada"
      ]
    },
    {
      "cell_type": "markdown",
      "metadata": {
        "id": "evFBnCQixv4x"
      },
      "source": [
        "## Formulas (LateX)\n",
        "---\n",
        "\n",
        "<font color=\"#004D7F\" size=3 style=\"font-family:Verdana;\">Es un sistema de composición de textos, orientado a la creación de documentos escritos que presenten una alta calidad tipográfica. Por sus características y posibilidades, es usado de forma especialmente intensa en la generación de artículos y libros científicos que incluyen, entre otros elementos, expresiones matemáticas."
      ]
    },
    {
      "cell_type": "markdown",
      "metadata": {
        "id": "fK186rNnxv4x"
      },
      "source": [
        "$ \\hat{d}=\\frac{(d+n)!}{n!\\,d!} $\n",
        "\n",
        "$\\int_0^1 {x^2} \\,{\\rm d}x$\n",
        "\n",
        "$1,2,\\ldots,n$"
      ]
    },
    {
      "cell_type": "markdown",
      "metadata": {
        "id": "IhrGPz0Nxv4x"
      },
      "source": [
        "#### **Aquí os añado la referencia a una pagina donde podéis encontrar muchos más ejemplos:**\n",
        "1. https://daringfireball.net/projects/markdown/basics\n",
        "2. https://programmerclick.com/article/9139292621/"
      ]
    },
    {
      "cell_type": "markdown",
      "metadata": {
        "id": "5xSnLzFwthD5"
      },
      "source": [
        "<a id=\"bloque3\"></a>\n",
        "\n",
        "---\n",
        "<br>\n",
        "<center>\n",
        "    <h2><font color=\"#004D7F\" size=6 style=\"text-align:center;font-family:Verdana;\"><u>¡¡Manos al teclado!!<br>¡¡Lets Code!!</u></font>"
      ]
    },
    {
      "cell_type": "markdown",
      "metadata": {
        "id": "ztQugXe9xv4x"
      },
      "source": [
        "<center><img style=\"text-align: center;width: 700px\" src=\"https://raw.githubusercontent.com/0xdevgranero/kschool/main/imgs/superprogrammer.gif\" alt=\"challenge\"></center>"
      ]
    },
    {
      "cell_type": "markdown",
      "metadata": {
        "id": "pueZdc9sxv4y"
      },
      "source": [
        "<font color=\"#228B22\" size=5 style=\"font-family:Verdana;\">**Enunciado Ejercicio 1**::\n",
        "\n",
        "<font color=\"#004D7F\" size=3 style=\"font-family:Verdana;\">Utiliza la sintaxis de Markdown para crear encabezados de nivel 1, 2 y 4 con los siguientes textos:\n",
        "- Curso de Python\n",
        "- Tema: Markdown\n",
        "- Escuela Kschool"
      ]
    },
    {
      "cell_type": "markdown",
      "metadata": {
        "id": "TpSayvlSxv4y"
      },
      "source": [
        "<font color=\"#228B22\" size=5 style=\"font-family:Verdana;\">**Enunciado Ejercicio 2**::\n",
        "\n",
        "<font color=\"#004D7F\" size=3 style=\"font-family:Verdana;\">Inserta un enlace a la documentación oficial de Python y, a continuación, inserta una imagen de la serpiente Python con su respectivo enlace de origen."
      ]
    },
    {
      "cell_type": "markdown",
      "metadata": {
        "id": "WBaDvCA_xv4y"
      },
      "source": [
        "<font color=\"#228B22\" size=5 style=\"font-family:Verdana;\">**Enunciado Ejercicio 3**::\n",
        "\n",
        "<font color=\"#004D7F\" size=3 style=\"font-family:Verdana;\">Resalta en negrita la palabra \"Python\" y en cursiva la palabra \"Markdown\" en la siguiente frase:\n",
        "\"Python es un lenguaje de programación de alto nivel, mientras que Markdown es un lenguaje de marcado ligero.\""
      ]
    },
    {
      "cell_type": "markdown",
      "metadata": {
        "id": "DbDHmqZxxv4y"
      },
      "source": [
        "<font color=\"#228B22\" size=5 style=\"font-family:Verdana;\">**Enunciado Ejercicio 4**::\n",
        "\n",
        "<font color=\"#004D7F\" size=3 style=\"font-family:Verdana;\">Escribe una lista numerada con los siguientes elementos y, a continuación, crea una lista con unas palabras de lo que creas que significa cada elemento\n",
        "\n",
        "- Variables\n",
        "- Condicionales\n",
        "- Bucles\n"
      ]
    }
  ],
  "metadata": {
    "accelerator": "GPU",
    "colab": {
      "provenance": [],
      "toc_visible": true,
      "gpuType": "T4",
      "include_colab_link": true
    },
    "kernelspec": {
      "display_name": "Python 3",
      "name": "python3"
    },
    "language_info": {
      "codemirror_mode": {
        "name": "ipython",
        "version": 3
      },
      "file_extension": ".py",
      "mimetype": "text/x-python",
      "name": "python",
      "nbconvert_exporter": "python",
      "pygments_lexer": "ipython3",
      "version": "3.10.10"
    },
    "orig_nbformat": 4
  },
  "nbformat": 4,
  "nbformat_minor": 0
}